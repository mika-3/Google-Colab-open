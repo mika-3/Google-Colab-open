{
  "nbformat": 4,
  "nbformat_minor": 0,
  "metadata": {
    "colab": {
      "provenance": [],
      "collapsed_sections": [],
      "toc_visible": true,
      "authorship_tag": "ABX9TyMAamOSXzlvCagT0dB4YXDR",
      "include_colab_link": true
    },
    "kernelspec": {
      "name": "python3",
      "display_name": "Python 3"
    },
    "language_info": {
      "name": "python"
    }
  },
  "cells": [
    {
      "cell_type": "markdown",
      "metadata": {
        "id": "view-in-github",
        "colab_type": "text"
      },
      "source": [
        "<a href=\"https://colab.research.google.com/github/mika-3/Google-Colab-open/blob/main/20221029_phython_web.ipynb\" target=\"_parent\"><img src=\"https://colab.research.google.com/assets/colab-badge.svg\" alt=\"Open In Colab\"/></a>"
      ]
    },
    {
      "cell_type": "code",
      "execution_count": null,
      "metadata": {
        "id": "GpAq_0aE_Tgf"
      },
      "outputs": [],
      "source": [
        "import urllib.request\n",
        "\n",
        "imgname = \"logo_courses_ai.png\"\n",
        "\n",
        "url = \"https://aiacademy.jp/assets/images/\" + imgname\n",
        "\n",
        "# urlretrieveの第一引数はアップロードされている画像のURL、第二引数には保存したい画像ファイル名\n",
        "urllib.request.urlretrieve(url, imgname)\n",
        "\n",
        "print(\"保存完了\")"
      ]
    },
    {
      "cell_type": "markdown",
      "source": [
        "# GETリクエスト\n",
        "import requests\n",
        "\n",
        "res = requests.get(\"https://aiacademy.jp\")\n",
        "print(res) # <Response [200]>\n",
        "\n",
        "print(res.text) # 帰って来たレスポンスボディをテキスト形式で取得# 新しいセクション"
      ],
      "metadata": {
        "id": "OtQuZFzxw3gD"
      }
    },
    {
      "cell_type": "code",
      "source": [
        "# GETリクエスト\n",
        "import requests\n",
        "\n",
        "res = requests.get(\"https://aiacademy.jp\")\n",
        "print(res) # <Response [200]>\n",
        "\n",
        "print(res.text) # 帰って来たレスポンスボディをテキスト形式で取得"
      ],
      "metadata": {
        "colab": {
          "base_uri": "https://localhost:8080/"
        },
        "id": "LuournjExYHT",
        "outputId": "ddc1417a-524d-4887-e252-a1e153f1a956"
      },
      "execution_count": 2,
      "outputs": [
        {
          "output_type": "stream",
          "name": "stdout",
          "text": [
            "<Response [200]>\n",
            "<!DOCTYPE html>\n",
            "<html lang=\"ja\">\n",
            "<head>\n",
            "\t<!-- Google Tag Manager -->\n",
            "<script>(function(w,d,s,l,i){w[l]=w[l]||[];w[l].push({'gtm.start':\n",
            "new Date().getTime(),event:'gtm.js'});var f=d.getElementsByTagName(s)[0],\n",
            "j=d.createElement(s),dl=l!='dataLayer'?'&l='+l:'';j.async=true;j.src=\n",
            "'https://www.googletagmanager.com/gtm.js?id='+i+dl;f.parentNode.insertBefore(j,f);\n",
            "})(window,document,'script','dataLayer','GTM-PGR97VX');</script>\n",
            "<!-- End Google Tag Manager -->\t<meta charset=\"UTF-8\">\n",
            "\t<meta name=\"description\" content= \"AI Academy [エーアイアカデミー]はあなたに最適化されたカリキュラムで、Python・機械学習・AIを実践的に学べるプログラミング学習サービスです。Python入門、SQL、機械学習に必要な数学、統計、scikit-learnによる機械学習、Keras+TensorFlowによる深層学習（ディープラーニング）、画像認識、自然言語処理など、人工知能や機械学習に関連するコンテンツが200種類以上のテキストコンテンツから学べます。\">\n",
            "\t<meta http-equiv=\"X-UA-Compatible\" content=\"IE=edge\"/>\n",
            "\t<meta name=\"viewport\" content=\"width=device-width,initial-scale=1\">\n",
            "\t<link rel=\"icon\" href=\"https://aiacademy.jp/assets/img/favicon.png\">\n",
            "\t<link rel=\"apple-touch-icon\" href=\"https://aiacademy.jp/assets/img/OGP2.png\">\n",
            "\t<meta property=\"og:title\" content= \"AI Academy | Python・機械学習・AIを実践的に学べるプログラミング学習サービス\" >\n",
            "\t<meta property=\"og:description\" content=\"AI Academy [エーアイアカデミー]はあなたに最適化されたカリキュラムで、Python・機械学習・AIを実践的に学べるプログラミング学習サービスです。Python入門、SQL、機械学習に必要な数学、統計、scikit-learnによる機械学習、Keras+TensorFlowによる深層学習（ディープラーニング）、画像認識、自然言語処理など、人工知能や機械学習に関連するコンテンツが200種類以上のテキストコンテンツから学べます。\">\n",
            "\t<meta property=\"og:url\" content=\"https://aiacademy.jp/\">\n",
            "\t<meta property=\"og:image\" content=\"https://aiacademy.jp/assets/img/OGP2.png\">\n",
            "\t<meta property=\"og:type\" content= \"website\">\n",
            "\t<meta property=\"og:site_name\" content=\"AI Academy | Python・機械学習に特化したプログラミング学習サービス\">\n",
            "\t<meta property=\"og:locale\" content=\"ja_JP\">\n",
            "\t\n",
            "\t<title>AI Academy | Python・機械学習・AIを実践的に学べるプログラミング学習サービス</title>\n",
            "\t<link rel=\"stylesheet\" href=\"/assets/css/app.css\">\n",
            "\t<link rel=\"stylesheet\" href=\"./bundle.css?3231925917\">\n",
            "\t\t<script src=\"https://code.jquery.com/jquery-3.2.1.min.js\"></script>\n",
            "</head>\n",
            "\n",
            "<body>\n",
            "\t<!-- Google Tag Manager (noscript) -->\n",
            "<noscript><iframe src=\"https://www.googletagmanager.com/ns.html?id=GTM-PGR97VX\"\n",
            "height=\"0\" width=\"0\" style=\"display:none;visibility:hidden\"></iframe></noscript>\n",
            "<!-- End Google Tag Manager (noscript) -->\t<script>\n",
            "if(typeof Proxy === 'undefined') {\n",
            "\tvar body = document.getElementsByTagName('body')[0];\n",
            "\tbody.insertAdjacentHTML('afterbegin', \"<p>AI Academyはお使いのブラウザーに対応していません。<br>AI Academyサービスを利用するには、Chromeブラウザーを推奨しています。<br>既にChromeブラウザーをお使いの場合は、バージョン49以上にアップデートしてください。<br><br><a href=\\\"https://www.google.com/intl/ja_jp/chrome/\\\" target=\\\"_blank\\\">Chromeブラウザーをダウンロードする</a></p>\");\n",
            "}\n",
            "</script>\t<div id='root'></div>\n",
            "\t<script src=\"./bundle.js?3231925917\"></script>\n",
            "\n",
            "\t<!-- Twitter universal website tag code -->\n",
            "\t<script>\n",
            "\t!function(e,t,n,s,u,a){e.twq||(s=e.twq=function(){s.exe?s.exe.apply(s,arguments):s.queue.push(arguments);\n",
            "\t},s.version='1.1',s.queue=[],u=t.createElement(n),u.async=!0,u.src='//static.ads-twitter.com/uwt.js',\n",
            "\ta=t.getElementsByTagName(n)[0],a.parentNode.insertBefore(u,a))}(window,document,'script');\n",
            "\t// Insert Twitter Pixel ID and Standard Event data below\n",
            "\ttwq('init','nyjlm');\n",
            "\ttwq('track','PageView');\n",
            "\t</script>\n",
            "\t<!-- End Twitter universal website tag code -->\n",
            "</body>\n",
            "</html>\n"
          ]
        }
      ]
    },
    {
      "cell_type": "code",
      "source": [
        "from bs4 import BeautifulSoup\n",
        "from urllib.request import urlopen\n",
        "html = urlopen(\"https://aiacademy.jp/assets/scraping/sample1.html\")\n",
        "data = html.read()\n",
        "html = data.decode('utf-8')\n",
        "\n",
        "# HTMLを解析\n",
        "soup = BeautifulSoup(html, 'html.parser')\n",
        "\n",
        "# 解析したHTMLから任意の部分のみを抽出（ここではtitleとbody）\n",
        "title = soup.find(\"title\")\n",
        "body = soup.find(\"body\")\n",
        "\n",
        "print(\"title: \" + title.text)\n",
        "print(\"body: \" + body.text)"
      ],
      "metadata": {
        "colab": {
          "base_uri": "https://localhost:8080/"
        },
        "id": "zIwfyqqq1keQ",
        "outputId": "4360f604-adb8-4f33-9c3d-50fb5fdc05d5"
      },
      "execution_count": 4,
      "outputs": [
        {
          "output_type": "stream",
          "name": "stdout",
          "text": [
            "title: AI Academy（エーアイ アカデミー）\n",
            "body: \n",
            "AI Academyとは？（エーアイ アカデミーとは？）\n",
            "人工知能プログラミングに特化したマンツーマン オンラインプログラミングスクールです。\n",
            "プログラミング言語Pythonを使いながら、機械学習や深層学習などを学習します。\n",
            "\n"
          ]
        }
      ]
    }
  ]
}